{
 "cells": [
  {
   "cell_type": "code",
   "execution_count": 1,
   "metadata": {},
   "outputs": [],
   "source": [
    "from snap.snap import snapmerchants, cull_data\n",
    "import snow.utils as sf\n",
    "import pandas as pd\n",
    "import editdistance"
   ]
  },
  {
   "cell_type": "code",
   "execution_count": 2,
   "metadata": {},
   "outputs": [
    {
     "name": "stdout",
     "output_type": "stream",
     "text": [
      "Using all_data_viewer...\n",
      "Established connection.\n",
      "Querying load_wh.all_data.postgres\n",
      "Custom data:  (630701, 1394, 'Melbourne', 'Dragon Hot Pot', 'Kingsway, Glen Waverley') \n",
      "\n",
      "Connection succesfully closed.\n",
      "Using zans_role...\n",
      "Established connection.\n",
      "Querying zans_wh.zans_db.glue\n",
      "Custom data:  (1365.0, 'https://www.zomato.com/sydney/sandoitchi-darlinghurst\\n') \n",
      "\n",
      "Connection succesfully closed.\n",
      "Using all_data_viewer...\n",
      "Established connection.\n",
      "Querying load_wh.all_data.postgres\n",
      "Custom data:  ('Balkan Seafood', 'Darlinghurst', '-33.88119518547905', '151.21783929064785', 'Sydney', 355) \n",
      "\n",
      "Connection succesfully closed.\n",
      "Using all_data_viewer...\n",
      "Established connection.\n",
      "Querying load_wh.all_data.postgres\n",
      "Custom data:  (1211, 'Sydney') \n",
      "\n",
      "Connection succesfully closed.\n",
      "We had 0 errors with extracting coordinates.\n",
      "\n"
     ]
    },
    {
     "name": "stdin",
     "output_type": "stream",
     "text": [
      "Is\n",
      "Chilli and Spicy\n",
      "Hot And Spicy House a match?\n",
      "Respond with enter, or n for false-positives. If you make an error, type 'restart'.\n",
      "\n",
      " n\n",
      "Is\n",
      "Sergio's Trattoria and Pizzeria\n",
      "Alberto's Pizzeria a match?\n",
      "Respond with enter, or n for false-positives. If you make an error, type 'restart'.\n",
      "\n",
      " n\n",
      "Is\n",
      "Sergio's Trattoria and Pizzeria\n",
      "Ladda's The Thai Takeaway a match?\n",
      "Respond with enter, or n for false-positives. If you make an error, type 'restart'.\n",
      "\n",
      " n\n",
      "Is\n",
      "Sergio's Trattoria and Pizzeria\n",
      "Miss Lilly's Kitchen a match?\n",
      "Respond with enter, or n for false-positives. If you make an error, type 'restart'.\n",
      "\n",
      " n\n",
      "Is\n",
      "Kawa Ramen\n",
      "K'square a match?\n",
      "Respond with enter, or n for false-positives. If you make an error, type 'restart'.\n",
      "\n",
      " n\n",
      "Is\n",
      "Chinatown Noodle Restaurant\n",
      "Northern Chinese Noodle Restaurant a match?\n",
      "Respond with enter, or n for false-positives. If you make an error, type 'restart'.\n",
      "\n",
      " n\n",
      "Is\n",
      "Restaurant Moon\n",
      "Yama Gardens Japanese Restaurant a match?\n",
      "Respond with enter, or n for false-positives. If you make an error, type 'restart'.\n",
      "\n",
      " n\n",
      "Is\n",
      "Restaurant Moon\n",
      "Una's Café & Restaurant a match?\n",
      "Respond with enter, or n for false-positives. If you make an error, type 'restart'.\n",
      "\n",
      " n\n"
     ]
    }
   ],
   "source": [
    "snap_df, count_error, name_error, size_of_data = snapmerchants('sydney'\n",
    "                                                               ,sanity_check=True)"
   ]
  },
  {
   "cell_type": "code",
   "execution_count": 4,
   "metadata": {},
   "outputs": [],
   "source": [
    "snap_df"
   ]
  },
  {
   "cell_type": "code",
   "execution_count": 6,
   "metadata": {},
   "outputs": [],
   "source": []
  },
  {
   "cell_type": "code",
   "execution_count": null,
   "metadata": {},
   "outputs": [],
   "source": []
  },
  {
   "cell_type": "code",
   "execution_count": 1,
   "metadata": {},
   "outputs": [],
   "source": [
    "import pandas as pd\n",
    "import numpy as np\n",
    "from snap.snap import populate_empty_branches, cull_data"
   ]
  },
  {
   "cell_type": "code",
   "execution_count": 2,
   "metadata": {},
   "outputs": [
    {
     "name": "stdout",
     "output_type": "stream",
     "text": [
      "Using all_data_viewer...\n",
      "Established connection.\n",
      "Querying load_wh.all_data.postgres\n",
      "Interactions data:  ('fen_job@yahoo.com', '400958', '2019-06-13', None, None, None, Decimal('7.000000'), 'Yes', 'Sydney', 861, 'CoCo Fresh Tea & Juice', 1242, '2019-06-13', Decimal('7.000000000000')) \n",
      "\n",
      "Connection succesfully closed.\n"
     ]
    },
    {
     "name": "stderr",
     "output_type": "stream",
     "text": [
      "/Library/Frameworks/Python.framework/Versions/3.7/lib/python3.7/site-packages/ipykernel_launcher.py:3: FutureWarning: Sorting because non-concatenation axis is not aligned. A future version\n",
      "of pandas will change to not sort by default.\n",
      "\n",
      "To accept the future behavior, pass 'sort=False'.\n",
      "\n",
      "To retain the current behavior and silence the warning, pass 'sort=True'.\n",
      "\n",
      "  This is separate from the ipykernel package so we can avoid doing imports until\n"
     ]
    }
   ],
   "source": [
    "snap_df = pd.read_csv('snapped.csv')\n",
    "df,interactions = populate_empty_branches(snap_df)\n",
    "snapped_df = pd.concat([snap_df,df])"
   ]
  },
  {
   "cell_type": "code",
   "execution_count": 6,
   "metadata": {},
   "outputs": [],
   "source": [
    "interactions = interactions.rename({'merchant':'Name'},axis=1)\n",
    "interactions = cull_data(interactions)\n",
    "int_df = interactions[['branchId','merchantId','Name']].drop_duplicates()\n",
    "int_df = int_df.rename({'branchId':'Id','merchantId':'MId','merchant':'Name'},axis=1)"
   ]
  },
  {
   "cell_type": "code",
   "execution_count": 7,
   "metadata": {},
   "outputs": [],
   "source": [
    "final_df = snapped_df.merge(int_df,how='outer')\n",
    "final_df = final_df.drop(['Suburb','Zomato Name','levenshtein','n'],axis=1)\n",
    "final_df.url = final_df.url.replace(np.nan,'None')"
   ]
  },
  {
   "cell_type": "code",
   "execution_count": 8,
   "metadata": {},
   "outputs": [],
   "source": [
    "template_df = final_df[final_df.url=='None']\n",
    "template_df[['MId','Name','url']\n",
    "           ].drop_duplicates(subset=['MId']\n",
    "                ).to_csv('snap/manual/template_sydney.csv',index=False)"
   ]
  },
  {
   "cell_type": "code",
   "execution_count": 10,
   "metadata": {},
   "outputs": [],
   "source": [
    "import os\n",
    "x_df = pd.read_csv('snap/manual/sydney.csv')"
   ]
  },
  {
   "cell_type": "code",
   "execution_count": 105,
   "metadata": {},
   "outputs": [],
   "source": [
    "url_dict = {}\n",
    "for _, r in x_df.iterrows():\n",
    "    key = int(r['MId'])\n",
    "    url_dict[key] = r['url']"
   ]
  },
  {
   "cell_type": "code",
   "execution_count": 127,
   "metadata": {},
   "outputs": [],
   "source": [
    "df = pd.DataFrame(zip(list(url_dict.keys())\n",
    "                 ,list(url_dict.values()))\n",
    "                 ,columns=['MId','url'])"
   ]
  },
  {
   "cell_type": "code",
   "execution_count": 20,
   "metadata": {},
   "outputs": [],
   "source": [
    "y = x_df.merge(final_df,on='MId')"
   ]
  },
  {
   "cell_type": "code",
   "execution_count": 12,
   "metadata": {},
   "outputs": [
    {
     "data": {
      "text/html": [
       "<div>\n",
       "<style scoped>\n",
       "    .dataframe tbody tr th:only-of-type {\n",
       "        vertical-align: middle;\n",
       "    }\n",
       "\n",
       "    .dataframe tbody tr th {\n",
       "        vertical-align: top;\n",
       "    }\n",
       "\n",
       "    .dataframe thead th {\n",
       "        text-align: right;\n",
       "    }\n",
       "</style>\n",
       "<table border=\"1\" class=\"dataframe\">\n",
       "  <thead>\n",
       "    <tr style=\"text-align: right;\">\n",
       "      <th></th>\n",
       "      <th>MId</th>\n",
       "      <th>Name_x</th>\n",
       "      <th>url_x</th>\n",
       "      <th>Id</th>\n",
       "      <th>Name_y</th>\n",
       "      <th>url_y</th>\n",
       "    </tr>\n",
       "  </thead>\n",
       "  <tbody>\n",
       "  </tbody>\n",
       "</table>\n",
       "</div>"
      ],
      "text/plain": [
       "Empty DataFrame\n",
       "Columns: [MId, Name_x, url_x, Id, Name_y, url_y]\n",
       "Index: []"
      ]
     },
     "execution_count": 12,
     "metadata": {},
     "output_type": "execute_result"
    }
   ],
   "source": [
    "y[y.Name_x!=y.Name_y]"
   ]
  },
  {
   "cell_type": "code",
   "execution_count": 29,
   "metadata": {},
   "outputs": [],
   "source": [
    "snapped = final_df[final_df.url!='None']\n",
    "COMPLETE = pd.concat([snapped[['Id','url']],y[['Id','url_x']].rename({'url_x':'url'},axis=1)])"
   ]
  },
  {
   "cell_type": "code",
   "execution_count": 30,
   "metadata": {},
   "outputs": [],
   "source": [
    "import snow.utils as sf"
   ]
  },
  {
   "cell_type": "code",
   "execution_count": 32,
   "metadata": {},
   "outputs": [
    {
     "name": "stdout",
     "output_type": "stream",
     "text": [
      "2019-06-14\n",
      "Accepted dataframe object\n",
      "Schema: glue created.\n",
      "sydney successfully updated.\n",
      "Engine successfully closed\n"
     ]
    }
   ],
   "source": [
    "sf.to_snow(df=COMPLETE.rename({'Id':'branchId'},axis=1)\n",
    "           ,table='sydney'\n",
    "           ,schema='glue')"
   ]
  },
  {
   "cell_type": "code",
   "execution_count": null,
   "metadata": {},
   "outputs": [],
   "source": []
  }
 ],
 "metadata": {
  "kernelspec": {
   "display_name": "Python 3",
   "language": "python",
   "name": "python3"
  },
  "language_info": {
   "codemirror_mode": {
    "name": "ipython",
    "version": 3
   },
   "file_extension": ".py",
   "mimetype": "text/x-python",
   "name": "python",
   "nbconvert_exporter": "python",
   "pygments_lexer": "ipython3",
   "version": "3.7.2"
  }
 },
 "nbformat": 4,
 "nbformat_minor": 2
}
