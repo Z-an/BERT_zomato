{
 "cells": [
  {
   "cell_type": "code",
   "execution_count": 4,
   "metadata": {},
   "outputs": [],
   "source": [
    "import csv"
   ]
  },
  {
   "cell_type": "code",
   "execution_count": 301,
   "metadata": {},
   "outputs": [],
   "source": [
    "psv = open('test.psv')\n",
    "dialect = csv.Sniffer().sniff(psv.read(1024))\n",
    "reader = csv.DictReader(psv, dialect=dialect)\n",
    "rows = []\n",
    "for r in reader:\n",
    "    rows += [r]"
   ]
  },
  {
   "cell_type": "code",
   "execution_count": 302,
   "metadata": {},
   "outputs": [],
   "source": [
    "rows\n",
    "copy = rows"
   ]
  },
  {
   "cell_type": "code",
   "execution_count": 303,
   "metadata": {},
   "outputs": [
    {
     "data": {
      "text/plain": [
       "'2000-05-18'"
      ]
     },
     "execution_count": 303,
     "metadata": {},
     "output_type": "execute_result"
    }
   ],
   "source": [
    "df.tail(1)['date'].values[0]"
   ]
  },
  {
   "cell_type": "code",
   "execution_count": 304,
   "metadata": {},
   "outputs": [],
   "source": [
    "df['date'] = pd.date_range(df.head(1)['date'].values[0]\n",
    "                ,df.tail(1)['date'].values[0]\n",
    "                ,freq='D').to_series()"
   ]
  },
  {
   "cell_type": "code",
   "execution_count": 305,
   "metadata": {},
   "outputs": [],
   "source": [
    "copy = [list(c.values()) for c in copy]"
   ]
  },
  {
   "cell_type": "code",
   "execution_count": 306,
   "metadata": {},
   "outputs": [],
   "source": [
    "import datetime\n",
    "\n",
    "df = pd.DataFrame(copy,columns=['date','pred_true'])\n",
    "\n",
    "dayofweeks = []\n",
    "\n",
    "for i,r in df.iterrows():\n",
    "    dt = r['date']\n",
    "\n",
    "    datestring = str(dt).split('-')\n",
    "    year,month,day = int(datestring[0]), int(datestring[1]), int(datestring[2])\n",
    "    \n",
    "    dayofweek = datetime.datetime(year,month,day).weekday()\n",
    "                     \n",
    "    dayofweeks += [dayofweek]"
   ]
  },
  {
   "cell_type": "code",
   "execution_count": 307,
   "metadata": {},
   "outputs": [],
   "source": [
    "df['dayofweek'] = weekdays"
   ]
  },
  {
   "cell_type": "code",
   "execution_count": 308,
   "metadata": {},
   "outputs": [],
   "source": [
    "df['y_pred'] = df.pred_true.apply(lambda x:list(x)[0])\n",
    "df['y_true'] = df.pred_true.apply(lambda x:list(x)[1])\n",
    "df = df.drop('pred_true',axis=1)"
   ]
  },
  {
   "cell_type": "code",
   "execution_count": 310,
   "metadata": {},
   "outputs": [
    {
     "data": {
      "text/html": [
       "<div>\n",
       "<style scoped>\n",
       "    .dataframe tbody tr th:only-of-type {\n",
       "        vertical-align: middle;\n",
       "    }\n",
       "\n",
       "    .dataframe tbody tr th {\n",
       "        vertical-align: top;\n",
       "    }\n",
       "\n",
       "    .dataframe thead th {\n",
       "        text-align: right;\n",
       "    }\n",
       "</style>\n",
       "<table border=\"1\" class=\"dataframe\">\n",
       "  <thead>\n",
       "    <tr style=\"text-align: right;\">\n",
       "      <th></th>\n",
       "      <th>date</th>\n",
       "      <th>dayofweek</th>\n",
       "      <th>y_pred</th>\n",
       "      <th>y_true</th>\n",
       "    </tr>\n",
       "  </thead>\n",
       "  <tbody>\n",
       "    <tr>\n",
       "      <th>0</th>\n",
       "      <td>1999-12-31</td>\n",
       "      <td>4</td>\n",
       "      <td>0</td>\n",
       "      <td>0</td>\n",
       "    </tr>\n",
       "    <tr>\n",
       "      <th>1</th>\n",
       "      <td>2000-01-01</td>\n",
       "      <td>5</td>\n",
       "      <td>1</td>\n",
       "      <td>0</td>\n",
       "    </tr>\n",
       "    <tr>\n",
       "      <th>2</th>\n",
       "      <td>2000-01-02</td>\n",
       "      <td>6</td>\n",
       "      <td>0</td>\n",
       "      <td>1</td>\n",
       "    </tr>\n",
       "    <tr>\n",
       "      <th>3</th>\n",
       "      <td>2000-01-03</td>\n",
       "      <td>0</td>\n",
       "      <td>0</td>\n",
       "      <td>0</td>\n",
       "    </tr>\n",
       "    <tr>\n",
       "      <th>4</th>\n",
       "      <td>2000-01-04</td>\n",
       "      <td>1</td>\n",
       "      <td>0</td>\n",
       "      <td>1</td>\n",
       "    </tr>\n",
       "  </tbody>\n",
       "</table>\n",
       "</div>"
      ],
      "text/plain": [
       "         date  dayofweek y_pred y_true\n",
       "0  1999-12-31          4      0      0\n",
       "1  2000-01-01          5      1      0\n",
       "2  2000-01-02          6      0      1\n",
       "3  2000-01-03          0      0      0\n",
       "4  2000-01-04          1      0      1"
      ]
     },
     "execution_count": 310,
     "metadata": {},
     "output_type": "execute_result"
    }
   ],
   "source": [
    "df.head()"
   ]
  },
  {
   "cell_type": "markdown",
   "metadata": {},
   "source": [
    "$$recall = \\frac{\\;tp\\;}{\\;tp\\;+\\;fp\\;}$$\n",
    "\n",
    "$$precision = \\frac{\\;tp\\;}{\\; tp\\; +\\; fn \\;}$$\n",
    "\n",
    "$$f1 = 2 * \\frac{precision * recall}{precision + recall}$$"
   ]
  },
  {
   "cell_type": "code",
   "execution_count": 322,
   "metadata": {},
   "outputs": [],
   "source": [
    "def true_positives(pred,target,ds):\n",
    "    \n",
    "    return [dt for dt,p,t in zip(ds,pred.astype(int)\n",
    "                    ,target.astype(int)) if p+t==2]\n",
    "\n",
    "\n",
    "def false_positives(pred,target,ds):\n",
    "    \n",
    "    return [dt for dt,p,t in zip(ds,pred.astype(int)\n",
    "                    ,target.astype(int)) if p+t==1 and p==1]\n",
    "\n",
    "\n",
    "def false_negatives(pred,target,ds):\n",
    "    \n",
    "    return [dt for dt,p,t in zip(ds,pred.astype(int)\n",
    "                    ,target.astype(int)) if p+1==1 and t==1]\n",
    "\n",
    "\n",
    "def precision(pred,target,ds):\n",
    "    \n",
    "    tp = len(true_positives(pred,target,ds))\n",
    "    fp = len(false_positives(pred,target,ds))\n",
    "    \n",
    "    return tp / (tp + fp)\n",
    "\n",
    "\n",
    "def recall(pred,target,ds):\n",
    "\n",
    "    tp = len(true_positives(pred,target,ds))\n",
    "    fn = len(false_negatives(pred,target,ds))\n",
    "    \n",
    "    return tp / (tp + fn)\n",
    "\n",
    "\n",
    "def f1(pred,target,ds):\n",
    "    \n",
    "    p = precision(pred,target,ds)\n",
    "    r = recall(pred,target,ds)\n",
    "    \n",
    "    f1 = ( (r**-1 + p**-1) / 2 )**-1\n",
    "    f1_ = 2 * ((p * r) / (p + r))\n",
    "    \n",
    "    return f1"
   ]
  },
  {
   "cell_type": "code",
   "execution_count": 323,
   "metadata": {},
   "outputs": [
    {
     "name": "stdout",
     "output_type": "stream",
     "text": [
      "global recall:  0.46153846153846156\n",
      "gloabl precision:  0.47619047619047616\n",
      "global f1:  0.46875\n"
     ]
    }
   ],
   "source": [
    "print('global recall: ',recall(df.y_pred,df.y_true,df.date))\n",
    "print('gloabl precision: ',precision(df.y_pred,df.y_true,df.date))\n",
    "print('global f1: ',f1(df.y_pred,df.y_true,df.date))"
   ]
  },
  {
   "cell_type": "code",
   "execution_count": 324,
   "metadata": {},
   "outputs": [
    {
     "data": {
      "text/plain": [
       "-120"
      ]
     },
     "execution_count": 324,
     "metadata": {},
     "output_type": "execute_result"
    }
   ],
   "source": [
    "tuesday_df = df[df.dayofweek==3]\n",
    "tuesday_df.shape[0] - df.shape[0]"
   ]
  },
  {
   "cell_type": "code",
   "execution_count": 325,
   "metadata": {},
   "outputs": [
    {
     "name": "stdout",
     "output_type": "stream",
     "text": [
      "Tuesday recall:  0.4\n",
      "Tuesday precision:  0.5714285714285714\n",
      "Tuesday f1:  0.47058823529411764\n"
     ]
    }
   ],
   "source": [
    "print('Tuesday recall: ',recall(tuesday_df.y_pred,tuesday_df.y_true,tuesday_df.date))\n",
    "print('Tuesday precision: ',precision(tuesday_df.y_pred,tuesday_df.y_true,tuesday_df.date))\n",
    "print('Tuesday f1: ',f1(tuesday_df.y_pred,tuesday_df.y_true,tuesday_df.date))"
   ]
  },
  {
   "cell_type": "code",
   "execution_count": 326,
   "metadata": {},
   "outputs": [
    {
     "name": "stdout",
     "output_type": "stream",
     "text": [
      "Tuesday f1:  0.47058823529411764\n"
     ]
    }
   ],
   "source": [
    "print('Tuesday f1: ',f1(tuesday_df.y_true,tuesday_df.y_pred,tuesday_df.date))"
   ]
  },
  {
   "cell_type": "code",
   "execution_count": 327,
   "metadata": {},
   "outputs": [
    {
     "name": "stdout",
     "output_type": "stream",
     "text": [
      "Tuesday precision:  0.4\n"
     ]
    }
   ],
   "source": [
    "print('Tuesday precision: ',precision(tuesday_df.y_true,tuesday_df.y_pred,tuesday_df.date))"
   ]
  },
  {
   "cell_type": "code",
   "execution_count": null,
   "metadata": {},
   "outputs": [],
   "source": []
  }
 ],
 "metadata": {
  "kernelspec": {
   "display_name": "Python 3",
   "language": "python",
   "name": "python3"
  },
  "language_info": {
   "codemirror_mode": {
    "name": "ipython",
    "version": 3
   },
   "file_extension": ".py",
   "mimetype": "text/x-python",
   "name": "python",
   "nbconvert_exporter": "python",
   "pygments_lexer": "ipython3",
   "version": "3.7.2"
  }
 },
 "nbformat": 4,
 "nbformat_minor": 2
}
